{
 "cells": [
  {
   "cell_type": "markdown",
   "metadata": {},
   "source": [
    "## First, The Beginner's Code:"
   ]
  },
  {
   "cell_type": "code",
   "execution_count": 1,
   "metadata": {},
   "outputs": [],
   "source": [
    "import random\n",
    "import string"
   ]
  },
  {
   "cell_type": "code",
   "execution_count": 2,
   "metadata": {},
   "outputs": [
    {
     "name": "stdout",
     "output_type": "stream",
     "text": [
      "length:  20\n",
      "use_letters:  True\n",
      "use_numbers:  True\n",
      "use_symbols:  False\n",
      "Generated Password: Vsy6qkzulA8W9JQEV0Nn\n"
     ]
    }
   ],
   "source": [
    "def generate_password(length, use_letters=True, use_numbers=True, use_symbols=True):\n",
    "    characters = \"\"\n",
    "    if use_letters:\n",
    "        characters += string.ascii_letters\n",
    "    if use_numbers:\n",
    "        characters += string.digits\n",
    "    if use_symbols:\n",
    "        characters += string.punctuation\n",
    "\n",
    "    if not characters:\n",
    "        print(\"Error: No character set selected for password generation.\")\n",
    "        return\n",
    "\n",
    "    password = ''.join(random.choice(characters) for _ in range(length))\n",
    "    return password\n",
    "\n",
    "# The Input parameters\n",
    "length = int(input(\"Enter the password length: \"))\n",
    "use_letters = input(\"Include letters? (yes/no): \").lower() == \"yes\"\n",
    "use_numbers = input(\"Include numbers? (yes/no): \").lower() == \"yes\"\n",
    "use_symbols = input(\"Include symbols? (yes/no): \").lower() == \"yes\"\n",
    "\n",
    "password = generate_password(length, use_letters, use_numbers, use_symbols)\n",
    "print(\"length: \", length)\n",
    "print(\"use_letters: \", use_letters)\n",
    "print(\"use_numbers: \", use_numbers)\n",
    "print(\"use_symbols: \", use_symbols)\n",
    "print(f\"Generated Password: {password}\")"
   ]
  },
  {
   "cell_type": "markdown",
   "metadata": {},
   "source": [
    "## Second, The Advanced Code:"
   ]
  },
  {
   "cell_type": "code",
   "execution_count": 3,
   "metadata": {},
   "outputs": [],
   "source": [
    "import sys\n",
    "import random\n",
    "import string\n",
    "from PyQt5.QtWidgets import QApplication, QWidget, QPushButton, QLabel, QLineEdit, QCheckBox, QTextEdit, QVBoxLayout, QHBoxLayout\n",
    "from PyQt5.QtGui import QClipboard"
   ]
  },
  {
   "cell_type": "code",
   "execution_count": 4,
   "metadata": {},
   "outputs": [],
   "source": [
    "class PasswordGenerator(QWidget):\n",
    "    def __init__(self):\n",
    "        super().__init__()\n",
    "        self.initUI()\n",
    "    def initUI(self):\n",
    "        self.setWindowTitle('Password Generator')\n",
    "        self.setGeometry(100, 100, 400, 250)\n",
    "\n",
    "        self.password_label = QLabel('Generated Password:')\n",
    "        self.password_text = QTextEdit()\n",
    "        self.password_text.setReadOnly(True)\n",
    "        self.generate_button = QPushButton('Generate Password')\n",
    "        self.generate_button.clicked.connect(self.generate_password)\n",
    "\n",
    "        self.length_label = QLabel('Password Length:')\n",
    "        self.length_input = QLineEdit()\n",
    "        self.use_letters = QCheckBox('Include Letters')\n",
    "        self.use_numbers = QCheckBox('Include Numbers')\n",
    "        self.use_symbols = QCheckBox('Include Symbols')\n",
    "\n",
    "        layout = QVBoxLayout()\n",
    "        layout.addWidget(self.password_label)\n",
    "        layout.addWidget(self.password_text)\n",
    "        layout.addWidget(self.generate_button)\n",
    "        layout.addWidget(self.length_label)\n",
    "        layout.addWidget(self.length_input)\n",
    "        layout.addWidget(self.use_letters)\n",
    "        layout.addWidget(self.use_numbers)\n",
    "        layout.addWidget(self.use_symbols)\n",
    "\n",
    "        self.setLayout(layout)\n",
    "\n",
    "    def generate_password(self):\n",
    "        length = int(self.length_input.text())\n",
    "        use_letters = self.use_letters.isChecked()\n",
    "        use_numbers = self.use_numbers.isChecked()\n",
    "        use_symbols = self.use_symbols.isChecked()\n",
    "\n",
    "        characters = \"\"\n",
    "        if use_letters:\n",
    "            characters += string.ascii_letters\n",
    "        if use_numbers:\n",
    "            characters += string.digits\n",
    "        if use_symbols:\n",
    "            characters += string.punctuation\n",
    "\n",
    "        if not characters:\n",
    "            self.password_text.setPlainText(\"Error: No character set selected for password generation.\")\n",
    "            return\n",
    "\n",
    "        password = ''.join(random.choice(characters) for _ in range(length))\n",
    "        self.password_text.setPlainText(password)\n",
    "\n",
    "def main():\n",
    "    app = QApplication(sys.argv)\n",
    "    generator = PasswordGenerator()\n",
    "    generator.show()\n",
    "    sys.exit(app.exec_())\n",
    "\n",
    "try:\n",
    "    if __name__ == '__main__':\n",
    "        app = QApplication(sys.argv)\n",
    "        generator = PasswordGenerator()\n",
    "        generator.show()\n",
    "        sys.exit(app.exec_())\n",
    "except SystemExit:\n",
    "    pass"
   ]
  }
 ],
 "metadata": {
  "kernelspec": {
   "display_name": "Python 3",
   "language": "python",
   "name": "python3"
  },
  "language_info": {
   "codemirror_mode": {
    "name": "ipython",
    "version": 3
   },
   "file_extension": ".py",
   "mimetype": "text/x-python",
   "name": "python",
   "nbconvert_exporter": "python",
   "pygments_lexer": "ipython3",
   "version": "3.9.9"
  }
 },
 "nbformat": 4,
 "nbformat_minor": 2
}
