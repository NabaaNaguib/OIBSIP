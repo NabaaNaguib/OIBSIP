{
 "cells": [
  {
   "cell_type": "markdown",
   "metadata": {},
   "source": [
    "## First, The Beginner's Code:"
   ]
  },
  {
   "cell_type": "code",
   "execution_count": 1,
   "metadata": {},
   "outputs": [],
   "source": [
    "def calculate_bmi(weight, height):\n",
    "    try:\n",
    "        weight = float(weight)\n",
    "        height = float(height)\n",
    "        # Calculate BMI using the formula: weight (kg) / (height (m) ^ 2)\n",
    "        bmi = weight / (height ** 2)\n",
    "        return bmi\n",
    "    except ValueError:\n",
    "        return None\n"
   ]
  },
  {
   "cell_type": "code",
   "execution_count": 2,
   "metadata": {},
   "outputs": [],
   "source": [
    "def classify_bmi(bmi):\n",
    "    if bmi is None:\n",
    "        return \"Invalid input\"\n",
    "    if bmi < 18.5:\n",
    "        return \"Underweight\"\n",
    "    elif 18.5 <= bmi < 24.9:\n",
    "        return \"Normal\"\n",
    "    elif 25 <= bmi < 29.9:\n",
    "        return \"Overweight\"\n",
    "    else:\n",
    "        return \"Obese\"\n"
   ]
  },
  {
   "cell_type": "code",
   "execution_count": 5,
   "metadata": {},
   "outputs": [
    {
     "name": "stdout",
     "output_type": "stream",
     "text": [
      "BMI Calculator\n",
      "weight:  70\n",
      "height:  1.80\n",
      "Your BMI is: 21.60\n",
      "You are classified as: Normal\n"
     ]
    }
   ],
   "source": [
    "def main():\n",
    "    print(\"BMI Calculator\")\n",
    "    weight = input(\"Enter your weight (in kilograms): \")\n",
    "    height = input(\"Enter your height (in meters): \")\n",
    "\n",
    "    bmi = calculate_bmi(weight, height)\n",
    "    category = classify_bmi(bmi)\n",
    "\n",
    "    if bmi is not None:\n",
    "        print(\"weight: \", weight)\n",
    "        print(\"height: \", height)\n",
    "        print(f\"Your BMI is: {bmi:.2f}\")\n",
    "        print(f\"You are classified as: {category}\")\n",
    "    else:\n",
    "        print(\"Invalid input. Please enter valid weight and height.\")\n",
    "\n",
    "if __name__ == \"__main__\":\n",
    "    main()"
   ]
  },
  {
   "cell_type": "markdown",
   "metadata": {},
   "source": [
    "## Second, The Advanced Code:"
   ]
  },
  {
   "cell_type": "code",
   "execution_count": 34,
   "metadata": {},
   "outputs": [],
   "source": [
    "import tkinter as tk\n",
    "import csv\n",
    "import matplotlib.pyplot as plt\n",
    "import pandas as pd\n"
   ]
  },
  {
   "cell_type": "code",
   "execution_count": 35,
   "metadata": {},
   "outputs": [],
   "source": [
    "def calculate_bmi():\n",
    "    try:\n",
    "        weight = float(weight_entry.get())\n",
    "        height = float(height_entry.get())\n",
    "        # Calculate BMI using the formula: weight (kg) / (height (m) ^ 2)\n",
    "        bmi = weight / (height ** 2)\n",
    "        result_label.config(text=f\"BMI: {bmi:.2f}\")\n",
    "        category_label.config(text=f\"Category: {classify_bmi(bmi)}\")\n",
    "    except ValueError:\n",
    "        result_label.config(text=\"Invalid input\")\n",
    "        category_label.config(text=\"\")"
   ]
  },
  {
   "cell_type": "code",
   "execution_count": 36,
   "metadata": {},
   "outputs": [],
   "source": [
    "def classify_bmi(bmi):\n",
    "    if bmi < 18.5:\n",
    "        return \"Underweight\"\n",
    "    elif 18.5 <= bmi < 24.9:\n",
    "        return \"Normal\"\n",
    "    elif 25 <= bmi < 29.9:\n",
    "        return \"Overweight\"\n",
    "    else:\n",
    "        return \"Obese\"\n"
   ]
  },
  {
   "cell_type": "code",
   "execution_count": 19,
   "metadata": {},
   "outputs": [],
   "source": [
    "# Create the main window\n",
    "window = tk.Tk()\n",
    "window.title(\"BMI Calculator\")\n",
    "\n",
    "# Create and configure input fields\n",
    "weight_label = tk.Label(window, text=\"Weight (kg):\")\n",
    "weight_label.pack()\n",
    "weight_entry = tk.Entry(window)\n",
    "weight_entry.pack()\n",
    "\n",
    "height_label = tk.Label(window, text=\"Height (m):\")\n",
    "height_label.pack()\n",
    "height_entry = tk.Entry(window)\n",
    "height_entry.pack()\n",
    "\n",
    "# Create and configure result labels\n",
    "result_label = tk.Label(window, text=\"\", font=(\"Helvetica\", 50))\n",
    "result_label.pack()\n",
    "category_label = tk.Label(window, text=\"\", font=(\"Helvetica\", 50))\n",
    "category_label.pack()\n",
    "\n",
    "# Create and configure the calculate button\n",
    "calculate_button = tk.Button(window, text=\"Calculate BMI\", command=calculate_bmi)\n",
    "calculate_button.pack()\n",
    "\n",
    "# Start the main loop\n",
    "window.mainloop()"
   ]
  },
  {
   "cell_type": "code",
   "execution_count": 37,
   "metadata": {},
   "outputs": [],
   "source": [
    "# Create a list to store user data\n",
    "bmi_data = []"
   ]
  },
  {
   "cell_type": "code",
   "execution_count": 38,
   "metadata": {},
   "outputs": [],
   "source": [
    "# Function to store BMI data in a CSV file\n",
    "def store_bmi_data():\n",
    "    try:\n",
    "        weight = float(weight_entry.get())\n",
    "        height = float(height_entry.get())\n",
    "        bmi = weight / (height ** 2)\n",
    "        bmi_data.append((weight, height, bmi))\n",
    "\n",
    "        with open('bmi_data.csv', mode='a', newline='') as file:\n",
    "            writer = csv.writer(file)\n",
    "            writer.writerow([weight, height, bmi])\n",
    "            \n",
    "        # Read the CSV file into a DataFrame and display it\n",
    "        df = pd.read_csv('bmi_data.csv', names=['Weight', 'Height', 'BMI'])\n",
    "        print(df)\n",
    "    except ValueError:\n",
    "        print(\"Invalid input\")\n",
    "    pass"
   ]
  },
  {
   "cell_type": "code",
   "execution_count": 41,
   "metadata": {},
   "outputs": [],
   "source": [
    "# Function to visualize historical BMI data\n",
    "def visualize_data():\n",
    "    try:\n",
    "        with open('bmi_data.csv', mode='r') as file:\n",
    "            reader = csv.reader(file)\n",
    "            data = list(reader)\n",
    "            if len(data) < 2:\n",
    "                print(\"Insufficient data for visualization.\")\n",
    "                return\n",
    "\n",
    "            timestamps = []\n",
    "            bmi_values = []\n",
    "\n",
    "            for row in data[1:]:\n",
    "                timestamps.append(row[0])  # Assuming the timestamp is the first column\n",
    "                bmi_values.append(float(row[2]))  # Assuming the BMI is the third column\n",
    "\n",
    "            plt.plot(timestamps, bmi_values, marker='o')\n",
    "            plt.xlabel('Timestamp')\n",
    "            plt.ylabel('BMI')\n",
    "            plt.title('Historical BMI Data')\n",
    "            plt.show()\n",
    "    except FileNotFoundError:\n",
    "        print(\"No data available for visualization.\")\n"
   ]
  },
  {
   "cell_type": "code",
   "execution_count": 42,
   "metadata": {},
   "outputs": [
    {
     "data": {
      "image/png": "[encoded data removed]",
      "text/plain": [
       "<Figure size 640x480 with 1 Axes>"
      ]
     },
     "metadata": {},
     "output_type": "display_data"
    }
   ],
   "source": [
    "#now to storing the data in a csv file:\n",
    "# Create the main window\n",
    "window = tk.Tk()\n",
    "window.title(\"BMI Calculator\")\n",
    "\n",
    "# Create and configure input fields\n",
    "weight_label = tk.Label(window, text=\"Weight (kg):\")\n",
    "weight_label.pack()\n",
    "weight_entry = tk.Entry(window)\n",
    "weight_entry.pack()\n",
    "\n",
    "height_label = tk.Label(window, text=\"Height (m):\")\n",
    "height_label.pack()\n",
    "height_entry = tk.Entry(window)\n",
    "height_entry.pack()\n",
    "\n",
    "# Create and configure result labels\n",
    "result_label = tk.Label(window, text=\"\", font=(\"Helvetica\", 50))\n",
    "result_label.pack()\n",
    "category_label = tk.Label(window, text=\"\", font=(\"Helvetica\", 50))\n",
    "category_label.pack()\n",
    "\n",
    "# Create and configure the calculate button\n",
    "calculate_button = tk.Button(window, text=\"Calculate BMI\", command=calculate_bmi)\n",
    "calculate_button.pack()\n",
    "\n",
    "# Create and configure the store button\n",
    "store_button = tk.Button(window, text=\"Store BMI Data\", command=store_bmi_data)\n",
    "store_button.pack()\n",
    "\n",
    "# Create and configure the visualize button\n",
    "visualize_button = tk.Button(window, text=\"Visualize BMI Data\", command=visualize_data)\n",
    "visualize_button.pack()\n",
    "\n",
    "# Start the main loop\n",
    "window.mainloop()"
   ]
  },
  {
   "cell_type": "code",
   "execution_count": null,
   "metadata": {},
   "outputs": [],
   "source": []
  }
 ],
 "metadata": {
  "kernelspec": {
   "display_name": "Python 3",
   "language": "python",
   "name": "python3"
  },
  "language_info": {
   "codemirror_mode": {
    "name": "ipython",
    "version": 3
   },
   "file_extension": ".py",
   "mimetype": "text/x-python",
   "name": "python",
   "nbconvert_exporter": "python",
   "pygments_lexer": "ipython3",
   "version": "3.9.9"
  }
 },
 "nbformat": 4,
 "nbformat_minor": 2
}
