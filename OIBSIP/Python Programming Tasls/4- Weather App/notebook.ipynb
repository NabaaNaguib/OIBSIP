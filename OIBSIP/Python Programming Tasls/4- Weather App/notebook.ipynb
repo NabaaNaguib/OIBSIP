{
 "cells": [
  {
   "cell_type": "markdown",
   "metadata": {},
   "source": [
    "## First, The Beginner's Code:"
   ]
  },
  {
   "cell_type": "code",
   "execution_count": 1,
   "metadata": {},
   "outputs": [],
   "source": [
    "import requests\n"
   ]
  },
  {
   "cell_type": "code",
   "execution_count": 3,
   "metadata": {},
   "outputs": [
    {
     "name": "stdout",
     "output_type": "stream",
     "text": [
      "Weather in cairo:\n",
      "Temperature: 26.42°C\n",
      "Humidity: 65%\n",
      "Condition: haze\n"
     ]
    }
   ],
   "source": [
    "def get_weather():\n",
    "    api_key = \"df9dc009122f9387db5d13568494a42d\"\n",
    "    base_url = \"http://api.openweathermap.org/data/2.5/weather\"\n",
    "    location = input(\"Enter city name: \")\n",
    "\n",
    "    params = {\"q\": location, \"appid\": api_key, \"units\": \"metric\"}\n",
    "\n",
    "    try:\n",
    "        response = requests.get(base_url, params=params)\n",
    "        data = response.json()\n",
    "\n",
    "        if response.status_code == 200:\n",
    "            temperature = data[\"main\"][\"temp\"]\n",
    "            humidity = data[\"main\"][\"humidity\"]\n",
    "            description = data[\"weather\"][0][\"description\"]\n",
    "\n",
    "            print(f\"Weather in {location}:\")\n",
    "            print(f\"Temperature: {temperature}°C\")\n",
    "            print(f\"Humidity: {humidity}%\")\n",
    "            print(f\"Condition: {description}\")\n",
    "        else:\n",
    "            print(f\"Error: {data['message']}\")\n",
    "    except Exception as e:\n",
    "        print(f\"An error occurred: {e}\")\n",
    "\n",
    "if __name__ == \"__main__\":\n",
    "    get_weather()\n"
   ]
  },
  {
   "cell_type": "code",
   "execution_count": 4,
   "metadata": {},
   "outputs": [
    {
     "name": "stdout",
     "output_type": "stream",
     "text": [
      "Weather in london:\n",
      "Temperature: 13.3°C\n",
      "Humidity: 70%\n",
      "Condition: scattered clouds\n"
     ]
    }
   ],
   "source": [
    "get_weather()"
   ]
  },
  {
   "cell_type": "code",
   "execution_count": 6,
   "metadata": {},
   "outputs": [
    {
     "name": "stdout",
     "output_type": "stream",
     "text": [
      "Weather in new york:\n",
      "Temperature: 7.46°C\n",
      "Humidity: 56%\n",
      "Condition: clear sky\n"
     ]
    }
   ],
   "source": [
    "get_weather()"
   ]
  },
  {
   "cell_type": "markdown",
   "metadata": {},
   "source": [
    "## Second, The Advanced Code:"
   ]
  },
  {
   "cell_type": "code",
   "execution_count": 2,
   "metadata": {},
   "outputs": [],
   "source": [
    "import sys\n",
    "from PyQt5.QtWidgets import QApplication, QWidget, QLabel, QLineEdit, QPushButton, QVBoxLayout\n",
    "import requests\n",
    "from PyQt5.QtCore import Qt"
   ]
  },
  {
   "cell_type": "code",
   "execution_count": 3,
   "metadata": {},
   "outputs": [
    {
     "name": "stderr",
     "output_type": "stream",
     "text": [
      "UsageError: Line magic function `%exit` not found.\n"
     ]
    },
    {
     "ename": "SystemExit",
     "evalue": "0",
     "output_type": "error",
     "traceback": [
      "An exception has occurred, use %tb to see the full traceback.\n",
      "\u001b[1;31mSystemExit\u001b[0m\u001b[1;31m:\u001b[0m 0\n"
     ]
    },
    {
     "name": "stderr",
     "output_type": "stream",
     "text": [
      "C:\\Users\\nabaa\\AppData\\Roaming\\Python\\Python39\\site-packages\\IPython\\core\\interactiveshell.py:3516: UserWarning: To exit: use 'exit', 'quit', or Ctrl-D.\n",
      "  warn(\"To exit: use 'exit', 'quit', or Ctrl-D.\", stacklevel=1)\n"
     ]
    }
   ],
   "source": [
    "class WeatherApp(QWidget):\n",
    "    def __init__(self):\n",
    "        super().__init__()\n",
    "        self.api_key = \"df9dc009122f9387db5d13568494a42d\"\n",
    "        self.initUI()\n",
    "\n",
    "    def initUI(self):\n",
    "        self.setWindowTitle('Weather App')\n",
    "        self.setGeometry(100, 100, 400, 200)\n",
    "\n",
    "        self.location_label = QLabel('Enter city name:')\n",
    "        self.location_input = QLineEdit()\n",
    "\n",
    "        self.result_label = QLabel('')\n",
    "        self.result_label.setAlignment(Qt.AlignCenter)\n",
    "\n",
    "        self.get_weather_button = QPushButton('Get Weather')\n",
    "        self.get_weather_button.clicked.connect(self.get_weather)\n",
    "\n",
    "        layout = QVBoxLayout()\n",
    "        layout.addWidget(self.location_label)\n",
    "        layout.addWidget(self.location_input)\n",
    "        layout.addWidget(self.get_weather_button)\n",
    "        layout.addWidget(self.result_label)\n",
    "\n",
    "        self.setLayout(layout)\n",
    "\n",
    "    def get_weather(self):\n",
    "        location = self.location_input.text()\n",
    "        base_url = \"http://api.openweathermap.org/data/2.5/weather\"\n",
    "        params = {\"q\": location, \"appid\": self.api_key, \"units\": \"metric\"}\n",
    "\n",
    "        try:\n",
    "            response = requests.get(base_url, params=params)\n",
    "            data = response.json()\n",
    "\n",
    "            if response.status_code == 200:\n",
    "                temperature = data[\"main\"][\"temp\"]\n",
    "                humidity = data[\"main\"][\"humidity\"]\n",
    "                description = data[\"weather\"][0][\"description\"]\n",
    "\n",
    "                result_text = f\"Weather in {location}:\\n\"\n",
    "                result_text += f\"Temperature: {temperature}°C\\n\"\n",
    "                result_text += f\"Humidity: {humidity}%\\n\"\n",
    "                result_text += f\"Condition: {description}\"\n",
    "                self.result_label.setText(result_text)\n",
    "            else:\n",
    "                self.result_label.setText(f\"Error: {data['message']}\")\n",
    "        except Exception as e:\n",
    "            self.result_label.setText(f\"An error occurred: {e}\")\n",
    "            \n",
    "    def closeEvent(self, event):\n",
    "        %exit\n",
    "\n",
    "def main():\n",
    "    app = QApplication(sys.argv)\n",
    "    weather_app = WeatherApp()\n",
    "    weather_app.show()\n",
    "    sys.exit(app.exec_())\n",
    "\n",
    "if __name__ == '__main__':\n",
    "    main()\n"
   ]
  },
  {
   "cell_type": "code",
   "execution_count": null,
   "metadata": {},
   "outputs": [],
   "source": []
  }
 ],
 "metadata": {
  "kernelspec": {
   "display_name": "Python 3",
   "language": "python",
   "name": "python3"
  },
  "language_info": {
   "codemirror_mode": {
    "name": "ipython",
    "version": 3
   },
   "file_extension": ".py",
   "mimetype": "text/x-python",
   "name": "python",
   "nbconvert_exporter": "python",
   "pygments_lexer": "ipython3",
   "version": "3.9.9"
  }
 },
 "nbformat": 4,
 "nbformat_minor": 2
}
