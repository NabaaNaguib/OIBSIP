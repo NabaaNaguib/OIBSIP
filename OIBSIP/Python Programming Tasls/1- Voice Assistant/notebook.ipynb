{
 "cells": [
  {
   "cell_type": "markdown",
   "metadata": {},
   "source": [
    "## First, The Beginners Code:"
   ]
  },
  {
   "cell_type": "code",
   "execution_count": 21,
   "metadata": {},
   "outputs": [],
   "source": [
    "import speech_recognition as sr\n",
    "import pyttsx3\n",
    "import sys\n",
    "import datetime"
   ]
  },
  {
   "cell_type": "code",
   "execution_count": 19,
   "metadata": {},
   "outputs": [],
   "source": [
    "# Initializing the speech recognition and text-to-speech engines\n",
    "recognizer = sr.Recognizer()\n",
    "text_to_speech = pyttsx3.init()"
   ]
  },
  {
   "cell_type": "code",
   "execution_count": 20,
   "metadata": {},
   "outputs": [],
   "source": [
    "# Function to speak the provided text\n",
    "def speak(text):\n",
    "    text_to_speech.say(text)\n",
    "    text_to_speech.runAndWait()"
   ]
  },
  {
   "cell_type": "code",
   "execution_count": 22,
   "metadata": {},
   "outputs": [],
   "source": [
    "#to define the real time and have the voice assistant speak the time, we do this:\n",
    "def get_time():\n",
    "    now = datetime.datetime.now()\n",
    "    return str(now.hour) + \" hours \" + str(now.minute) + \" minutes\""
   ]
  },
  {
   "cell_type": "code",
   "execution_count": 23,
   "metadata": {},
   "outputs": [],
   "source": [
    "def get_date():\n",
    "    now = datetime.datetime.now()\n",
    "    return now.strftime(\"%B %d, %Y\")  # Example format: \"November 02, 2023\""
   ]
  },
  {
   "cell_type": "code",
   "execution_count": 28,
   "metadata": {},
   "outputs": [
    {
     "name": "stdout",
     "output_type": "stream",
     "text": [
      "Listening...\n",
      "User said: hello\n",
      "Hello! How can I assist you today?\n",
      "Listening...\n",
      "User said: what's the time\n",
      "The Current time is 16 hours 40 minutes\n",
      "Listening...\n",
      "User said: what's the date\n",
      "The Current date is November 09, 2023\n",
      "Listening...\n",
      "User said: stop\n",
      "Goodbye!\n"
     ]
    },
    {
     "name": "stderr",
     "output_type": "stream",
     "text": [
      "UsageError: Line magic function `%exit` not found.\n"
     ]
    }
   ],
   "source": [
    "# Function to recognize and respond to voice commands\n",
    "def voice_assistant():\n",
    "    with sr.Microphone() as source:\n",
    "        print(\"Listening...\")\n",
    "        recognizer.adjust_for_ambient_noise(source)\n",
    "        audio = recognizer.listen(source)\n",
    "\n",
    "    try:\n",
    "        command = recognizer.recognize_google(audio).lower()\n",
    "        print(f\"User said: {command}\")\n",
    "        \n",
    "        if \"hello\" in command:\n",
    "            out= \"Hello! How can I assist you today?\"\n",
    "            speak(out)\n",
    "            print(out)\n",
    "        elif \"what's the time\" in command:\n",
    "            out= f\"The Current time is {get_time()}\" \n",
    "            speak(out)\n",
    "            print(out)\n",
    "        elif \"what's the date\" in command:\n",
    "            out= f\"The Current date is {get_date()}\"\n",
    "            speak(out)\n",
    "            print(out)\n",
    "        elif \"stop\" in command:\n",
    "            out= \"Goodbye!\"\n",
    "            speak(out)\n",
    "            print(out)\n",
    "            %exit \n",
    "        else:\n",
    "            speak(\"I'm sorry, I don't understand that command.\")\n",
    "\n",
    "    except sr.UnknownValueError:\n",
    "        print(\"Sorry, I didn't catch that. Please repeat.\")\n",
    "    except sr.RequestError:\n",
    "        print(\"Sorry, I'm having trouble with the internet connection.\")\n",
    "\n",
    "while True:\n",
    "    voice_assistant()"
   ]
  },
  {
   "cell_type": "markdown",
   "metadata": {},
   "source": [
    "## Second, The Advanced Code:"
   ]
  },
  {
   "cell_type": "code",
   "execution_count": 29,
   "metadata": {},
   "outputs": [],
   "source": [
    "import speech_recognition as sr\n",
    "import pyttsx3\n",
    "import datetime\n",
    "import schedule  \n",
    "import pyowm  \n",
    "import requests  \n",
    "import smtplib\n",
    "from email.mime.text import MIMEText\n",
    "import schedule\n",
    "import time\n",
    "import wikipediaapi\n",
    "import speech_recognition as sr"
   ]
  },
  {
   "cell_type": "code",
   "execution_count": 30,
   "metadata": {},
   "outputs": [],
   "source": [
    "# Initializing the speech recognition and text-to-speech engines:\n",
    "recognizer = sr.Recognizer()\n",
    "text_to_speech = pyttsx3.init()"
   ]
  },
  {
   "cell_type": "code",
   "execution_count": 31,
   "metadata": {},
   "outputs": [],
   "source": [
    "# A Function to speak the provided text:\n",
    "def speak(text):\n",
    "    text_to_speech.say(text)\n",
    "    text_to_speech.runAndWait()\n"
   ]
  },
  {
   "cell_type": "code",
   "execution_count": 32,
   "metadata": {},
   "outputs": [],
   "source": [
    "# A Function to get the current time and date:\n",
    "def get_time():\n",
    "    now = datetime.datetime.now()\n",
    "    return str(now.hour) + \" hours \" + str(now.minute) + \" minutes\"\n",
    "\n",
    "# Function to get the current date as a string\n",
    "def get_date():\n",
    "    now = datetime.datetime.now()\n",
    "    return now.strftime(\"%B %d, %Y\")  # Example format: \"November 02, 2023\""
   ]
  },
  {
   "cell_type": "code",
   "execution_count": 36,
   "metadata": {},
   "outputs": [],
   "source": [
    "#A function to set a reminder:\n",
    "def set_a_reminder():\n",
    "    with sr.Microphone() as source:\n",
    "        speak(\"What time should I remind you?\")\n",
    "        audio = recognizer.listen(source)\n",
    "        \n",
    "        try:\n",
    "            time = recognizer.recognize_google(audio)\n",
    "            print(f\"User said: {time}\")\n",
    "            \n",
    "            speak(\"What should I remind you about?\")\n",
    "            audio = recognizer.listen(source)  # Reuse the same source\n",
    "            task = recognizer.recognize_google(audio)\n",
    "            print(f\"User said: {task}\")\n",
    "            out= \"Reminder set for \" + time + \" hours to \" + task\n",
    "            speak(out)\n",
    "            print(out)\n",
    "            \n",
    "        except sr.UnknownValueError:\n",
    "            print(\"Sorry, I didn't catch that. Please repeat.\")\n",
    "        except sr.RequestError:\n",
    "            print(\"Sorry, I'm having trouble with the internet connection.\")\n"
   ]
  },
  {
   "cell_type": "code",
   "execution_count": 37,
   "metadata": {},
   "outputs": [],
   "source": [
    "# A Function to get the current weather in any city:\n",
    "def weather():\n",
    "    api = \"df9dc009122f9387db5d13568494a42d\"\n",
    "    base_url = \"https://api.openweathermap.org/data/2.5/weather?\"\n",
    "\n",
    "    speak(\"What is your city name?\")\n",
    "    with sr.Microphone() as source:\n",
    "        audio = recognizer.listen(source)\n",
    "    \n",
    "    try:\n",
    "        city_name = recognizer.recognize_google(audio)\n",
    "        complete_url = base_url + \"appid=\" + api + \"&q=\" + city_name\n",
    "        response = requests.get(complete_url)\n",
    "        data = response.json()\n",
    "        \n",
    "        if data[\"cod\"] != \"404\":\n",
    "            main_data = data[\"main\"]\n",
    "            temperature_celsius = main_data[\"temp\"] - 273.15  # Convert temperature from Kelvin to Celsius\n",
    "            #speak(f\"The temperature in {city_name} is {temperature_celsius:.2f}°C.\")\n",
    "            out = f\"The temperature in {city_name} is {temperature_celsius:.2f}°C.\"\n",
    "            print(out)\n",
    "            speak(out)\n",
    "        else:\n",
    "            speak(\"City not found. Please try again.\")\n",
    "    except sr.UnknownValueError:\n",
    "        speak(\"Sorry, I didn't catch that. Please repeat.\")\n",
    "    except sr.RequestError:\n",
    "        speak(\"Sorry, I'm having trouble with the internet connection.\")\n",
    "        "
   ]
  },
  {
   "cell_type": "code",
   "execution_count": 38,
   "metadata": {},
   "outputs": [
    {
     "name": "stdout",
     "output_type": "stream",
     "text": [
      "Listening...\n",
      "User said: hello\n",
      "Hello! How can I assist you today?\n",
      "Listening...\n",
      "User said: what's the time\n",
      "The Current time is 16 hours 45 minutes\n",
      "Listening...\n",
      "User said: repeat\n",
      "Listening...\n",
      "User said: what's the date\n",
      "The Current date is November 09, 2023\n",
      "Listening...\n",
      "User said: play reminder\n",
      "Listening...\n",
      "User said: set a reminder\n",
      "User said: 12\n",
      "User said: take medication\n",
      "Reminder set for 12 hours to take medication\n",
      "Listening...\n",
      "User said: what's the weather like\n",
      "Listening...\n",
      "User said: what's the weather like\n",
      "Listening...\n",
      "User said: what's the weather like\n",
      "The temperature in London is 10.50°C.\n",
      "Listening...\n",
      "User said: stop\n"
     ]
    }
   ],
   "source": [
    "#A Function to recognize and respond to voice commands:\n",
    "def voice_assistant():\n",
    "    with sr.Microphone() as source:\n",
    "        print(\"Listening...\")\n",
    "        recognizer.adjust_for_ambient_noise(source)\n",
    "        audio = recognizer.listen(source)\n",
    "\n",
    "    try:\n",
    "        command = recognizer.recognize_google(audio).lower()\n",
    "        print(f\"User said: {command}\")\n",
    "        if \"hello\" in command:\n",
    "            out= \"Hello! How can I assist you today?\"\n",
    "            speak(out)\n",
    "            print(out)\n",
    "            \n",
    "        elif \"what's the time\" in command:\n",
    "            out= f\"The Current time is {get_time()}\"\n",
    "            speak(out)\n",
    "            print(out)\n",
    "            \n",
    "        elif \"what's the date\" in command:\n",
    "            out= f\"The Current date is {get_date()}\"\n",
    "            speak(out)\n",
    "            print(out)  \n",
    "                      \n",
    "        elif \"set a reminder\" in command:\n",
    "            set_a_reminder()\n",
    "\n",
    "        elif \"what's the weather like\" in command:\n",
    "            weather()            \n",
    "            \n",
    "        elif \"stop\" in command:\n",
    "            speak(\"Goodbye!\")\n",
    "            return True \n",
    "\n",
    "    except sr.UnknownValueError:\n",
    "        speak(\"Sorry, I didn't catch that. Please repeat.\")\n",
    "    except sr.RequestError:\n",
    "        speak(\"Sorry, I'm having trouble with the internet connection.\")\n",
    "    return False \n",
    "\n",
    "# Main loop to continuously listen for voice commands\n",
    "while True:\n",
    "    should_stop = voice_assistant()\n",
    "    if should_stop:\n",
    "        break\n"
   ]
  }
 ],
 "metadata": {
  "kernelspec": {
   "display_name": "Python 3",
   "language": "python",
   "name": "python3"
  },
  "language_info": {
   "codemirror_mode": {
    "name": "ipython",
    "version": 3
   },
   "file_extension": ".py",
   "mimetype": "text/x-python",
   "name": "python",
   "nbconvert_exporter": "python",
   "pygments_lexer": "ipython3",
   "version": "3.9.9"
  }
 },
 "nbformat": 4,
 "nbformat_minor": 2
}
